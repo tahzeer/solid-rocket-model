{
 "cells": [
  {
   "cell_type": "code",
   "execution_count": 26,
   "metadata": {},
   "outputs": [],
   "source": [
    "import cantera as ct\n",
    "import numpy as np\n",
    "import matplotlib.pyplot as plt"
   ]
  },
  {
   "cell_type": "code",
   "execution_count": 9,
   "metadata": {},
   "outputs": [
    {
     "ename": "CanteraError",
     "evalue": "\n*******************************************************************************\nInputFileError thrown by AnyMap::operator[]:\nError on line 1 of ./data/chem.yaml:\nKey 'species' not found.\nExisting keys: generator, input-files, cantera-version, date, phases\n|  Line |\n>     1 > generator: ck2yaml\n                    ^\n|     2 | input-files: [chem.inp]\n|     3 | cantera-version: 3.0.0\n|     4 | date: Thu, 19 Oct 2023 23:29:57 +0530\n*******************************************************************************\n",
     "output_type": "error",
     "traceback": [
      "\u001b[1;31m---------------------------------------------------------------------------\u001b[0m",
      "\u001b[1;31mCanteraError\u001b[0m                              Traceback (most recent call last)",
      "\u001b[1;32mc:\\Users\\tahze\\Documents\\glaive\\Assign & Papers\\BTP\\solid-rocket-model\\code\\cantera-model\\test.ipynb Cell 2\u001b[0m line \u001b[0;36m<cell line: 1>\u001b[1;34m()\u001b[0m\n\u001b[1;32m----> <a href='vscode-notebook-cell:/c%3A/Users/tahze/Documents/glaive/Assign%20%26%20Papers/BTP/solid-rocket-model/code/cantera-model/test.ipynb#W1sZmlsZQ%3D%3D?line=0'>1</a>\u001b[0m gas \u001b[39m=\u001b[39m ct\u001b[39m.\u001b[39mSolution(\u001b[39m'\u001b[39m\u001b[39mdata/chem.yaml\u001b[39m\u001b[39m'\u001b[39m)\n",
      "File \u001b[1;32mcantera/solutionbase.pyx:37\u001b[0m, in \u001b[0;36mcantera.solutionbase._SolutionBase.__cinit__\u001b[1;34m()\u001b[0m\n",
      "File \u001b[1;32mcantera/solutionbase.pyx:95\u001b[0m, in \u001b[0;36mcantera.solutionbase._SolutionBase._cinit\u001b[1;34m()\u001b[0m\n",
      "File \u001b[1;32mcantera/solutionbase.pyx:180\u001b[0m, in \u001b[0;36mcantera.solutionbase._SolutionBase._init_yaml\u001b[1;34m()\u001b[0m\n",
      "\u001b[1;31mCanteraError\u001b[0m: \n*******************************************************************************\nInputFileError thrown by AnyMap::operator[]:\nError on line 1 of ./data/chem.yaml:\nKey 'species' not found.\nExisting keys: generator, input-files, cantera-version, date, phases\n|  Line |\n>     1 > generator: ck2yaml\n                    ^\n|     2 | input-files: [chem.inp]\n|     3 | cantera-version: 3.0.0\n|     4 | date: Thu, 19 Oct 2023 23:29:57 +0530\n*******************************************************************************\n"
     ]
    }
   ],
   "source": [
    "gas = ct.Solution('data/chem.yaml')"
   ]
  },
  {
   "cell_type": "code",
   "execution_count": 10,
   "metadata": {},
   "outputs": [],
   "source": [
    "gas = ct.Solution('gri30.yaml')"
   ]
  },
  {
   "cell_type": "code",
   "execution_count": 12,
   "metadata": {},
   "outputs": [
    {
     "name": "stdout",
     "output_type": "stream",
     "text": [
      "\n",
      "  gri30:\n",
      "\n",
      "       temperature   300 K\n",
      "          pressure   1.0133e+05 Pa\n",
      "           density   0.081894 kg/m^3\n",
      "  mean mol. weight   2.016 kg/kmol\n",
      "   phase of matter   gas\n",
      "\n",
      "                          1 kg             1 kmol     \n",
      "                     ---------------   ---------------\n",
      "          enthalpy             26469             53361  J\n",
      "   internal energy       -1.2108e+06        -2.441e+06  J\n",
      "           entropy             64910        1.3086e+05  J/K\n",
      "    Gibbs function       -1.9447e+07       -3.9204e+07  J\n",
      " heat capacity c_p             14311             28851  J/K\n",
      " heat capacity c_v             10187             20536  J/K\n",
      "\n",
      "                      mass frac. Y      mole frac. X     chem. pot. / RT\n",
      "                     ---------------   ---------------   ---------------\n",
      "                H2                 1                 1           -15.717\n",
      "     [  +52 minor]                 0                 0  \n",
      "\n"
     ]
    }
   ],
   "source": [
    "gas()"
   ]
  },
  {
   "cell_type": "code",
   "execution_count": 13,
   "metadata": {},
   "outputs": [],
   "source": [
    "phi_min = 0.2\n",
    "phi_max = 3.6\n",
    "n_pts = 35"
   ]
  },
  {
   "cell_type": "code",
   "execution_count": 14,
   "metadata": {},
   "outputs": [],
   "source": [
    "T = 300.0\n",
    "P = 101325.0"
   ]
  },
  {
   "cell_type": "code",
   "execution_count": 15,
   "metadata": {},
   "outputs": [],
   "source": [
    "fuel_species = 'CH4'\n",
    "ifuel = gas.species_index(fuel_species)\n",
    "io2 = gas.species_index('O2')\n",
    "in2 = gas.species_index('N2')"
   ]
  },
  {
   "cell_type": "code",
   "execution_count": 16,
   "metadata": {},
   "outputs": [],
   "source": [
    "air_N2_O2_ratio = 3.76\n",
    "stoich_O2 = gas.n_atoms(fuel_species, 'C') + 0.25 * gas.n_atoms(fuel_species, 'H')"
   ]
  },
  {
   "cell_type": "code",
   "execution_count": 19,
   "metadata": {},
   "outputs": [],
   "source": [
    "phi = np.zeros(n_pts)\n",
    "tad = np.zeros(n_pts)\n",
    "xeq = np.zeros((gas.n_species, n_pts))"
   ]
  },
  {
   "cell_type": "code",
   "execution_count": null,
   "metadata": {},
   "outputs": [],
   "source": [
    "for i in range(n_pts):\n",
    "    phi[i] = phi_min + (phi_max - phi_min)*i/(n_pts - 1)\n",
    "    X = np.zeros(gas.n_species)\n",
    "    X[ifuel] = phi[i]\n",
    "    X[io2] = stoich_O2\n",
    "    X[in2] = stoich_O2*air_N2_O2_ratio\n",
    "\n",
    "    gas.TPX = T, P, X\n",
    "\n",
    "    gas.equilibrate('HP')\n",
    "\n",
    "    tad[i] = gas.T\n",
    "    xeq[:, i] = gas.X\n",
    "    print(\"At phi = \", \"%10.4f\" % (phi[i]) + \"  Tad = \", \"%10.4f\" % (tad[i]))"
   ]
  },
  {
   "cell_type": "code",
   "execution_count": 47,
   "metadata": {},
   "outputs": [],
   "source": [
    "def func(fuel_species):\n",
    "    \n",
    "    ifuel = gas.species_index(fuel_species)\n",
    "    io2 = gas.species_index('O2')\n",
    "    in2 = gas.species_index('N2')\n",
    "\n",
    "    air_N2_O2_ratio = 3.76\n",
    "    stoich_O2 = gas.n_atoms(fuel_species, 'C') + 0.25 * gas.n_atoms(fuel_species, 'H')\n",
    "\n",
    "    phi = np.zeros(n_pts)\n",
    "    tad = np.zeros(n_pts)\n",
    "    xeq = np.zeros((gas.n_species, n_pts))\n",
    "\n",
    "    for i in range(n_pts):\n",
    "        phi[i] = phi_min + (phi_max - phi_min)*i/(n_pts - 1)\n",
    "        X = np.zeros(gas.n_species)\n",
    "        X[ifuel] = phi[i]\n",
    "        X[io2] = stoich_O2\n",
    "        X[in2] = stoich_O2*air_N2_O2_ratio\n",
    "\n",
    "        gas.TPX = T, P, X\n",
    "\n",
    "        gas.equilibrate('HP')\n",
    "\n",
    "        tad[i] = gas.T\n",
    "        xeq[:, i] = gas.X\n",
    "        print(\"At phi = \", \"%10.4f\" % (phi[i]) + \"  Tad = \", \"%10.4f\" % (tad[i]))\n",
    "    \n",
    "    # for i, cas in enumerate(gas.species_names):\n",
    "    #     if cas in ['O2', 'CO2', 'CO']:\n",
    "    #         plt.plot(phi, xeq[i, :], label=cas)\n",
    "    # plt.xlabel('Equivalence ratio')\n",
    "    # plt.ylabel('Mass fractions')\n",
    "    # plt.legend(loc='best')\n",
    "\n",
    "    plt.plot(phi, tad)\n",
    "    plt.xlabel('Equivalence ratio')\n",
    "    plt.ylabel('Adiabatic flame temperature [K]')\n",
    "    plt.show()\n",
    "    "
   ]
  },
  {
   "cell_type": "code",
   "execution_count": 49,
   "metadata": {},
   "outputs": [
    {
     "name": "stdout",
     "output_type": "stream",
     "text": [
      "At phi =      0.2000  Tad =    894.7055\n",
      "At phi =      0.3000  Tad =   1153.1271\n",
      "At phi =      0.4000  Tad =   1392.5734\n",
      "At phi =      0.5000  Tad =   1615.5131\n",
      "At phi =      0.6000  Tad =   1822.8350\n",
      "At phi =      0.7000  Tad =   2012.6661\n",
      "At phi =      0.8000  Tad =   2177.5102\n",
      "At phi =      0.9000  Tad =   2304.1948\n",
      "At phi =      1.0000  Tad =   2381.5952\n",
      "At phi =      1.1000  Tad =   2405.6442\n",
      "At phi =      1.2000  Tad =   2383.4909\n",
      "At phi =      1.3000  Tad =   2336.2339\n",
      "At phi =      1.4000  Tad =   2280.6476\n",
      "At phi =      1.5000  Tad =   2223.4465\n",
      "At phi =      1.6000  Tad =   2166.7801\n",
      "At phi =      1.7000  Tad =   2111.2977\n",
      "At phi =      1.8000  Tad =   2057.1655\n",
      "At phi =      1.9000  Tad =   2004.3934\n",
      "At phi =      2.0000  Tad =   1952.9427\n",
      "At phi =      2.1000  Tad =   1902.7626\n",
      "At phi =      2.2000  Tad =   1853.8010\n",
      "At phi =      2.3000  Tad =   1806.0073\n",
      "At phi =      2.4000  Tad =   1759.3321\n",
      "At phi =      2.5000  Tad =   1713.7268\n",
      "At phi =      2.6000  Tad =   1669.1432\n",
      "At phi =      2.7000  Tad =   1625.5322\n",
      "At phi =      2.8000  Tad =   1582.8447\n",
      "At phi =      2.9000  Tad =   1541.0312\n",
      "At phi =      3.0000  Tad =   1500.0447\n",
      "At phi =      3.1000  Tad =   1459.8729\n",
      "At phi =      3.2000  Tad =   1429.6603\n",
      "At phi =      3.3000  Tad =   1419.0492\n",
      "At phi =      3.4000  Tad =   1410.2278\n",
      "At phi =      3.5000  Tad =   1402.6526\n",
      "At phi =      3.6000  Tad =   1396.0203\n"
     ]
    },
    {
     "data": {
      "image/png": "[encoded data removed]",
      "text/plain": [
       "<Figure size 432x288 with 1 Axes>"
      ]
     },
     "metadata": {
      "needs_background": "light"
     },
     "output_type": "display_data"
    }
   ],
   "source": [
    "func('C3H7')"
   ]
  },
  {
   "cell_type": "code",
   "execution_count": null,
   "metadata": {},
   "outputs": [],
   "source": []
  }
 ],
 "metadata": {
  "kernelspec": {
   "display_name": "Python 3",
   "language": "python",
   "name": "python3"
  },
  "language_info": {
   "codemirror_mode": {
    "name": "ipython",
    "version": 3
   },
   "file_extension": ".py",
   "mimetype": "text/x-python",
   "name": "python",
   "nbconvert_exporter": "python",
   "pygments_lexer": "ipython3",
   "version": "3.10.2"
  }
 },
 "nbformat": 4,
 "nbformat_minor": 2
}
