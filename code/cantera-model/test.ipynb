{
 "cells": [
  {
   "cell_type": "code",
   "execution_count": 1,
   "metadata": {},
   "outputs": [],
   "source": [
    "import cantera as ct"
   ]
  },
  {
   "cell_type": "code",
   "execution_count": 4,
   "metadata": {},
   "outputs": [
    {
     "ename": "CanteraError",
     "evalue": "\n*******************************************************************************\nInputFileError thrown by AnyValue::getMapWhere:\nError on line 0 of c:\\Users\\tahze\\AppData\\Local\\Programs\\Python\\Python310\\lib\\site-packages\\cantera\\data/nasa_gas.yaml:\nKey 'phases' not found\n|  Line |\n|     1 | generator: ck2yaml\n|     2 | input-files: [nasa_gas.dat]\n|     3 | cantera-version: 2.6.0\n*******************************************************************************\n",
     "output_type": "error",
     "traceback": [
      "\u001b[1;31m---------------------------------------------------------------------------\u001b[0m",
      "\u001b[1;31mCanteraError\u001b[0m                              Traceback (most recent call last)",
      "\u001b[1;32mc:\\Users\\tahze\\Documents\\glaive\\Assign & Papers\\BTP\\solid-rocket-model\\code\\cantera-model\\test.ipynb Cell 2\u001b[0m line \u001b[0;36m<cell line: 1>\u001b[1;34m()\u001b[0m\n\u001b[1;32m----> <a href='vscode-notebook-cell:/c%3A/Users/tahze/Documents/glaive/Assign%20%26%20Papers/BTP/solid-rocket-model/code/cantera-model/test.ipynb#W1sZmlsZQ%3D%3D?line=0'>1</a>\u001b[0m gas1 \u001b[39m=\u001b[39m ct\u001b[39m.\u001b[39mSolution(\u001b[39m\"\u001b[39m\u001b[39mnasa_gas.yaml\u001b[39m\u001b[39m\"\u001b[39m)\n",
      "File \u001b[1;32mcantera/solutionbase.pyx:37\u001b[0m, in \u001b[0;36mcantera.solutionbase._SolutionBase.__cinit__\u001b[1;34m()\u001b[0m\n",
      "File \u001b[1;32mcantera/solutionbase.pyx:95\u001b[0m, in \u001b[0;36mcantera.solutionbase._SolutionBase._cinit\u001b[1;34m()\u001b[0m\n",
      "File \u001b[1;32mcantera/solutionbase.pyx:180\u001b[0m, in \u001b[0;36mcantera.solutionbase._SolutionBase._init_yaml\u001b[1;34m()\u001b[0m\n",
      "\u001b[1;31mCanteraError\u001b[0m: \n*******************************************************************************\nInputFileError thrown by AnyValue::getMapWhere:\nError on line 0 of c:\\Users\\tahze\\AppData\\Local\\Programs\\Python\\Python310\\lib\\site-packages\\cantera\\data/nasa_gas.yaml:\nKey 'phases' not found\n|  Line |\n|     1 | generator: ck2yaml\n|     2 | input-files: [nasa_gas.dat]\n|     3 | cantera-version: 2.6.0\n*******************************************************************************\n"
     ]
    }
   ],
   "source": [
    "gas1 = ct.Solution(\"nasa_gas.yaml\")\n"
   ]
  },
  {
   "cell_type": "code",
   "execution_count": null,
   "metadata": {},
   "outputs": [],
   "source": []
  }
 ],
 "metadata": {
  "kernelspec": {
   "display_name": "Python 3",
   "language": "python",
   "name": "python3"
  },
  "language_info": {
   "codemirror_mode": {
    "name": "ipython",
    "version": 3
   },
   "file_extension": ".py",
   "mimetype": "text/x-python",
   "name": "python",
   "nbconvert_exporter": "python",
   "pygments_lexer": "ipython3",
   "version": "3.10.2"
  }
 },
 "nbformat": 4,
 "nbformat_minor": 2
}
