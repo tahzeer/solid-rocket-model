{
 "cells": [
  {
   "cell_type": "code",
   "execution_count": 2,
   "metadata": {},
   "outputs": [],
   "source": [
    "import cantera as ct\n",
    "import numpy as np"
   ]
  },
  {
   "cell_type": "markdown",
   "metadata": {},
   "source": [
    "### Creating an object"
   ]
  },
  {
   "cell_type": "code",
   "execution_count": 3,
   "metadata": {},
   "outputs": [],
   "source": [
    "gas1 = ct.Solution('gri30.yaml')"
   ]
  },
  {
   "cell_type": "code",
   "execution_count": 4,
   "metadata": {},
   "outputs": [
    {
     "name": "stdout",
     "output_type": "stream",
     "text": [
      "\n",
      "  gri30:\n",
      "\n",
      "       temperature   300 K\n",
      "          pressure   1.0133e+05 Pa\n",
      "           density   0.081894 kg/m^3\n",
      "  mean mol. weight   2.016 kg/kmol\n",
      "   phase of matter   gas\n",
      "\n",
      "                          1 kg             1 kmol     \n",
      "                     ---------------   ---------------\n",
      "          enthalpy             26469             53361  J\n",
      "   internal energy       -1.2108e+06        -2.441e+06  J\n",
      "           entropy             64910        1.3086e+05  J/K\n",
      "    Gibbs function       -1.9447e+07       -3.9204e+07  J\n",
      " heat capacity c_p             14311             28851  J/K\n",
      " heat capacity c_v             10187             20536  J/K\n",
      "\n",
      "                      mass frac. Y      mole frac. X     chem. pot. / RT\n",
      "                     ---------------   ---------------   ---------------\n",
      "                H2                 1                 1           -15.717\n",
      "     [  +52 minor]                 0                 0  \n",
      "\n"
     ]
    }
   ],
   "source": [
    "gas1()"
   ]
  },
  {
   "cell_type": "markdown",
   "metadata": {},
   "source": [
    "### Setting state of the created object"
   ]
  },
  {
   "cell_type": "code",
   "execution_count": 6,
   "metadata": {},
   "outputs": [
    {
     "name": "stdout",
     "output_type": "stream",
     "text": [
      "\n",
      "  gri30:\n",
      "\n",
      "       temperature   1200 K\n",
      "          pressure   1.0133e+05 Pa\n",
      "           density   0.020473 kg/m^3\n",
      "  mean mol. weight   2.016 kg/kmol\n",
      "   phase of matter   gas\n",
      "\n",
      "                          1 kg             1 kmol     \n",
      "                     ---------------   ---------------\n",
      "          enthalpy        1.3295e+07        2.6802e+07  J\n",
      "   internal energy        8.3457e+06        1.6825e+07  J\n",
      "           entropy             85222        1.7181e+05  J/K\n",
      "    Gibbs function       -8.8972e+07       -1.7937e+08  J\n",
      " heat capacity c_p             15377             31000  J/K\n",
      " heat capacity c_v             11253             22686  J/K\n",
      "\n",
      "                      mass frac. Y      mole frac. X     chem. pot. / RT\n",
      "                     ---------------   ---------------   ---------------\n",
      "                H2                 1                 1           -17.978\n",
      "     [  +52 minor]                 0                 0  \n",
      "\n"
     ]
    }
   ],
   "source": [
    "# set temperature to 1200 K and pressure to 1 atm (101325 Pa)\n",
    "gas1.TP = 1200, 101325\n",
    "gas1()"
   ]
  },
  {
   "cell_type": "markdown",
   "metadata": {},
   "source": [
    "Thermodynamics generally requires that two properties in addition to composition information be specified to fix the intensive state of a substance (or mixture)."
   ]
  },
  {
   "cell_type": "code",
   "execution_count": 7,
   "metadata": {},
   "outputs": [],
   "source": [
    "gas1.TP = 1200, 101325           # temperature, pressure\n",
    "gas1.TD = 1200, 0.0204723        # temperature, density\n",
    "gas1.HP = 1.32956e7, 101325      # specific enthalpy, pressure\n",
    "gas1.UV = 8.34619e6, 1/0.0204723 # specific internal energy, specific volume\n",
    "gas1.SP = 85227.6, 101325        # specific entropy, pressure\n",
    "gas1.SV = 85227.6, 1/0.0204723   # specific entropy, specific volume"
   ]
  },
  {
   "cell_type": "code",
   "execution_count": 8,
   "metadata": {},
   "outputs": [
    {
     "name": "stdout",
     "output_type": "stream",
     "text": [
      "\n",
      "  gri30:\n",
      "\n",
      "       temperature   1200.5 K\n",
      "          pressure   1.0136e+05 Pa\n",
      "           density   0.020472 kg/m^3\n",
      "  mean mol. weight   2.016 kg/kmol\n",
      "   phase of matter   gas\n",
      "\n",
      "                          1 kg             1 kmol     \n",
      "                     ---------------   ---------------\n",
      "          enthalpy        1.3303e+07        2.6818e+07  J\n",
      "   internal energy        8.3515e+06        1.6837e+07  J\n",
      "           entropy             85228        1.7182e+05  J/K\n",
      "    Gibbs function       -8.9015e+07       -1.7945e+08  J\n",
      " heat capacity c_p             15378             31002  J/K\n",
      " heat capacity c_v             11254             22688  J/K\n",
      "\n",
      "                      mass frac. Y      mole frac. X     chem. pot. / RT\n",
      "                     ---------------   ---------------   ---------------\n",
      "                H2                 1                 1           -17.978\n",
      "     [  +52 minor]                 0                 0  \n",
      "\n"
     ]
    }
   ],
   "source": [
    "gas1()"
   ]
  },
  {
   "cell_type": "code",
   "execution_count": 10,
   "metadata": {},
   "outputs": [
    {
     "data": {
      "text/plain": [
       "1200.5188172713504"
      ]
     },
     "execution_count": 10,
     "metadata": {},
     "output_type": "execute_result"
    }
   ],
   "source": [
    "# reading properties individually\n",
    "gas1.T"
   ]
  },
  {
   "cell_type": "code",
   "execution_count": 11,
   "metadata": {},
   "outputs": [
    {
     "data": {
      "text/plain": [
       "13302755.250164837"
      ]
     },
     "execution_count": 11,
     "metadata": {},
     "output_type": "execute_result"
    }
   ],
   "source": [
    "gas1.h"
   ]
  },
  {
   "cell_type": "code",
   "execution_count": 12,
   "metadata": {},
   "outputs": [
    {
     "data": {
      "text/plain": [
       "(8351530.632807602, 48.84649013545132)"
      ]
     },
     "execution_count": 12,
     "metadata": {},
     "output_type": "execute_result"
    }
   ],
   "source": [
    "gas1.UV"
   ]
  },
  {
   "cell_type": "markdown",
   "metadata": {},
   "source": [
    "- The composition can be set in terms of either mole fractions (X) or mass fractions (Y)\n",
    "- Mass and mole fractions can also be set using dict objects, which is convenient in cases where the composition is stored in a variable or being computed"
   ]
  },
  {
   "cell_type": "code",
   "execution_count": 13,
   "metadata": {},
   "outputs": [],
   "source": [
    "# setting the composition of the gas\n",
    "gas1.X = 'CH4:1, O2:2, N2:7.52'"
   ]
  },
  {
   "cell_type": "code",
   "execution_count": 14,
   "metadata": {},
   "outputs": [],
   "source": [
    "phi = 0.8\n",
    "gas1.X = {'CH4':1, 'O2':2/phi, 'N2':2*3.76/phi}"
   ]
  },
  {
   "cell_type": "markdown",
   "metadata": {},
   "source": [
    "When the composition alone is changed, the temperature and density are held constant. This means that the pressure and other intensive properties will change. The composition can also be set in conjunction with the intensive properties of the mixture"
   ]
  },
  {
   "cell_type": "code",
   "execution_count": 15,
   "metadata": {},
   "outputs": [
    {
     "name": "stdout",
     "output_type": "stream",
     "text": [
      "\n",
      "  gri30:\n",
      "\n",
      "       temperature   1200 K\n",
      "          pressure   1.0133e+05 Pa\n",
      "           density   0.28063 kg/m^3\n",
      "  mean mol. weight   27.633 kg/kmol\n",
      "   phase of matter   gas\n",
      "\n",
      "                          1 kg             1 kmol     \n",
      "                     ---------------   ---------------\n",
      "          enthalpy        8.6193e+05        2.3818e+07  J\n",
      "   internal energy        5.0087e+05        1.3841e+07  J\n",
      "           entropy            8914.2        2.4633e+05  J/K\n",
      "    Gibbs function       -9.8351e+06       -2.7178e+08  J\n",
      " heat capacity c_p            1397.3             38611  J/K\n",
      " heat capacity c_v            1096.4             30296  J/K\n",
      "\n",
      "                      mass frac. Y      mole frac. X     chem. pot. / RT\n",
      "                     ---------------   ---------------   ---------------\n",
      "                O2           0.22014           0.19011           -28.747\n",
      "               CH4          0.055187          0.095057           -35.961\n",
      "                N2           0.72467           0.71483           -25.679\n",
      "     [  +50 minor]                 0                 0  \n",
      "\n"
     ]
    }
   ],
   "source": [
    "gas1.TPX = 1200, 101325, 'CH4:1, O2:2, N2:7.52'\n",
    "gas1()"
   ]
  },
  {
   "cell_type": "code",
   "execution_count": 16,
   "metadata": {},
   "outputs": [
    {
     "name": "stdout",
     "output_type": "stream",
     "text": [
      "\n",
      "  gri30:\n",
      "\n",
      "       temperature   1200 K\n",
      "          pressure   96968 Pa\n",
      "           density   0.28063 kg/m^3\n",
      "  mean mol. weight   28.875 kg/kmol\n",
      "   phase of matter   gas\n",
      "\n",
      "                          1 kg             1 kmol     \n",
      "                     ---------------   ---------------\n",
      "          enthalpy         5.488e+06        1.5847e+08  J\n",
      "   internal energy        5.1425e+06        1.4849e+08  J\n",
      "           entropy             11001        3.1766e+05  J/K\n",
      "    Gibbs function       -7.7133e+06       -2.2272e+08  J\n",
      " heat capacity c_p            2239.5             64665  J/K\n",
      " heat capacity c_v            1951.5             56351  J/K\n",
      "\n",
      "                      mass frac. Y      mole frac. X     chem. pot. / RT\n",
      "                     ---------------   ---------------   ---------------\n",
      "                H2         0.0013173          0.018868           -21.992\n",
      "                 H        0.00065866          0.018868            2.4353\n",
      "                 O          0.010454          0.018868         -0.055742\n",
      "                O2          0.020908          0.018868           -31.101\n",
      "                OH          0.011113          0.018868           -24.459\n",
      "               H2O          0.011772          0.018868           -53.716\n",
      "               HO2          0.021567          0.018868           -33.378\n",
      "              H2O2          0.022226          0.018868            -49.72\n",
      "                 C         0.0078483          0.018868            47.197\n",
      "                CH          0.008507          0.018868            31.548\n",
      "               CH2         0.0091656          0.018868            8.9729\n",
      "            CH2(S)         0.0091656          0.018868            13.472\n",
      "               CH3         0.0098243          0.018868           -16.143\n",
      "               CH4          0.010483          0.018868           -37.622\n",
      "                CO          0.018303          0.018868           -41.191\n",
      "               CO2          0.028757          0.018868           -72.598\n",
      "               HCO          0.018961          0.018868           -29.809\n",
      "              CH2O           0.01962          0.018868           -44.651\n",
      "             CH2OH          0.020279          0.018868           -39.409\n",
      "              CH3O          0.020279          0.018868           -33.942\n",
      "             CH3OH          0.020937          0.018868           -57.677\n",
      "               C2H          0.016355          0.018868             23.54\n",
      "              C2H2          0.017014          0.018868           -9.5007\n",
      "              C2H3          0.017673          0.018868           -6.5419\n",
      "              C2H4          0.018331          0.018868           -29.979\n",
      "              C2H5           0.01899          0.018868           -27.426\n",
      "              C2H6          0.019649          0.018868           -46.084\n",
      "              HCCO           0.02681          0.018868           -20.362\n",
      "             CH2CO          0.027468          0.018868           -42.939\n",
      "             HCCOH          0.027468          0.018868           -29.956\n",
      "                 N         0.0091526          0.018868             23.32\n",
      "                NH         0.0098112          0.018868            7.6861\n",
      "               NH2           0.01047          0.018868           -11.041\n",
      "               NH3          0.011129          0.018868           -35.097\n",
      "               NNH          0.018964          0.018868           -9.0571\n",
      "                NO          0.019607          0.018868           -22.595\n",
      "               NO2          0.030061          0.018868           -32.841\n",
      "               N2O          0.028759          0.018868           -25.826\n",
      "               HNO          0.020265          0.018868           -22.889\n",
      "                CN          0.017001          0.018868            13.245\n",
      "               HCN           0.01766          0.018868           -18.395\n",
      "              H2CN          0.018318          0.018868           -9.9256\n",
      "              HCNN          0.026812          0.018868            7.6839\n",
      "              HCNO          0.028114          0.018868            -20.48\n",
      "              HOCN          0.028114          0.018868           -38.496\n",
      "              HNCO          0.028114          0.018868           -49.088\n",
      "               NCO          0.027455          0.018868           -22.369\n",
      "                N2          0.018305          0.018868           -29.357\n",
      "                AR          0.026104          0.018868           -24.227\n",
      "              C3H7          0.028156          0.018868           -36.993\n",
      "              C3H8          0.028814          0.018868           -55.673\n",
      "            CH2CHO          0.028127          0.018868           -39.229\n",
      "            CH3CHO          0.028786          0.018868           -58.386\n",
      "\n"
     ]
    }
   ],
   "source": [
    "# setting composition using numpy arrays\n",
    "\n",
    "gas1.X = np.ones(53)\n",
    "gas1()"
   ]
  },
  {
   "cell_type": "code",
   "execution_count": 17,
   "metadata": {},
   "outputs": [
    {
     "name": "stdout",
     "output_type": "stream",
     "text": [
      "\n",
      "  gri30:\n",
      "\n",
      "       temperature   1200 K\n",
      "          pressure   1.8411e+05 Pa\n",
      "           density   0.28063 kg/m^3\n",
      "  mean mol. weight   15.208 kg/kmol\n",
      "   phase of matter   gas\n",
      "\n",
      "                          1 kg             1 kmol     \n",
      "                     ---------------   ---------------\n",
      "          enthalpy        1.2527e+07        1.9051e+08  J\n",
      "   internal energy        1.1871e+07        1.8053e+08  J\n",
      "           entropy             15940        2.4242e+05  J/K\n",
      "    Gibbs function       -6.6012e+06       -1.0039e+08  J\n",
      " heat capacity c_p            2898.3             44079  J/K\n",
      " heat capacity c_v            2351.6             35764  J/K\n",
      "\n",
      "                      mass frac. Y      mole frac. X     chem. pot. / RT\n",
      "                     ---------------   ---------------   ---------------\n",
      "                H2          0.018868           0.14234            -19.33\n",
      "                 H          0.018868           0.28467            5.7903\n",
      "                 O          0.018868          0.017935           0.53472\n",
      "                O2          0.018868         0.0089677           -31.204\n",
      "                OH          0.018868          0.016872            -23.93\n",
      "               H2O          0.018868          0.015928           -53.245\n",
      "               HO2          0.018868         0.0086938           -33.512\n",
      "              H2O2          0.018868         0.0084362           -49.883\n",
      "                 C          0.018868          0.023891            48.074\n",
      "                CH          0.018868          0.022041            32.344\n",
      "               CH2          0.018868          0.020457            9.6949\n",
      "            CH2(S)          0.018868          0.020457            14.194\n",
      "               CH3          0.018868          0.019085            -15.49\n",
      "               CH4          0.018868          0.017886           -37.034\n",
      "                CO          0.018868          0.010245            -41.16\n",
      "               CO2          0.018868         0.0065202            -73.02\n",
      "               HCO          0.018868         0.0098887           -29.814\n",
      "              CH2O          0.018868         0.0095567            -44.69\n",
      "             CH2OH          0.018868         0.0092463           -39.481\n",
      "              CH3O          0.018868         0.0092463           -34.014\n",
      "             CH3OH          0.018868         0.0089554           -57.781\n",
      "               C2H          0.018868          0.011464            23.683\n",
      "              C2H2          0.018868           0.01102           -9.3973\n",
      "              C2H3          0.018868           0.01061           -6.4765\n",
      "              C2H4          0.018868          0.010228            -29.95\n",
      "              C2H5          0.018868         0.0098737           -27.432\n",
      "              C2H6          0.018868         0.0095427           -46.124\n",
      "              HCCO          0.018868         0.0069938           -20.713\n",
      "             CH2CO          0.018868         0.0068261           -43.315\n",
      "             HCCOH          0.018868         0.0068261           -30.332\n",
      "                 N          0.018868          0.020486            24.044\n",
      "                NH          0.018868          0.019111              8.34\n",
      "               NH2          0.018868          0.017909           -10.452\n",
      "               NH3          0.018868          0.016849           -34.569\n",
      "               NNH          0.018868         0.0098873           -9.0622\n",
      "                NO          0.018868         0.0095631           -22.633\n",
      "               NO2          0.018868         0.0062373           -33.307\n",
      "               N2O          0.018868         0.0065196           -26.247\n",
      "               HNO          0.018868         0.0092522            -22.96\n",
      "                CN          0.018868          0.011029            13.349\n",
      "               HCN          0.018868          0.010618           -18.329\n",
      "              H2CN          0.018868          0.010236           -9.8961\n",
      "              HCNN          0.018868         0.0069931            7.3325\n",
      "              HCNO          0.018868         0.0066694           -20.878\n",
      "              HOCN          0.018868         0.0066694           -38.895\n",
      "              HNCO          0.018868         0.0066694           -49.487\n",
      "               NCO          0.018868         0.0068294           -22.744\n",
      "                N2          0.018868          0.010243           -29.327\n",
      "                AR          0.018868         0.0071827           -24.551\n",
      "              C3H7          0.018868         0.0066594           -37.393\n",
      "              C3H8          0.018868         0.0065072           -56.097\n",
      "            CH2CHO          0.018868         0.0066663           -39.628\n",
      "            CH3CHO          0.018868         0.0065137           -58.809\n",
      "\n"
     ]
    }
   ],
   "source": [
    "gas1.Y = np.ones(53)\n",
    "gas1()"
   ]
  },
  {
   "cell_type": "code",
   "execution_count": 18,
   "metadata": {},
   "outputs": [],
   "source": [
    "gas1.SV = None, 2.1"
   ]
  },
  {
   "cell_type": "code",
   "execution_count": 19,
   "metadata": {},
   "outputs": [],
   "source": [
    "gas1.TPX = None, None, 'CH4:1.0, O2:0.5'"
   ]
  },
  {
   "cell_type": "code",
   "execution_count": 20,
   "metadata": {},
   "outputs": [
    {
     "name": "stdout",
     "output_type": "stream",
     "text": [
      "\n",
      "  gri30:\n",
      "\n",
      "       temperature   1354 K\n",
      "          pressure   3.5251e+05 Pa\n",
      "           density   0.66885 kg/m^3\n",
      "  mean mol. weight   21.361 kg/kmol\n",
      "   phase of matter   gas\n",
      "\n",
      "                          1 kg             1 kmol     \n",
      "                     ---------------   ---------------\n",
      "          enthalpy        3.1713e+05        6.7743e+06  J\n",
      "   internal energy       -2.0991e+05       -4.4839e+06  J\n",
      "           entropy             12237        2.6141e+05  J/K\n",
      "    Gibbs function       -1.6253e+07       -3.4718e+08  J\n",
      " heat capacity c_p            3260.1             69641  J/K\n",
      " heat capacity c_v            2870.9             61326  J/K\n",
      "\n",
      "                      mass frac. Y      mole frac. X     chem. pot. / RT\n",
      "                     ---------------   ---------------   ---------------\n",
      "                O2           0.49931           0.33333           -27.308\n",
      "               CH4           0.50069           0.66667           -32.604\n",
      "     [  +51 minor]                 0                 0  \n",
      "\n"
     ]
    }
   ],
   "source": [
    "gas1()"
   ]
  },
  {
   "cell_type": "markdown",
   "metadata": {},
   "source": [
    "### Working with a subset of species"
   ]
  },
  {
   "cell_type": "code",
   "execution_count": null,
   "metadata": {},
   "outputs": [],
   "source": []
  }
 ],
 "metadata": {
  "kernelspec": {
   "display_name": "Python 3",
   "language": "python",
   "name": "python3"
  },
  "language_info": {
   "codemirror_mode": {
    "name": "ipython",
    "version": 3
   },
   "file_extension": ".py",
   "mimetype": "text/x-python",
   "name": "python",
   "nbconvert_exporter": "python",
   "pygments_lexer": "ipython3",
   "version": "3.10.2"
  },
  "orig_nbformat": 4
 },
 "nbformat": 4,
 "nbformat_minor": 2
}
