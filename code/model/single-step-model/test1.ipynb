{
 "cells": [
  {
   "cell_type": "code",
   "execution_count": 79,
   "metadata": {},
   "outputs": [
    {
     "name": "stdout",
     "output_type": "stream",
     "text": [
      "running cantera version: 3.0.0\n"
     ]
    }
   ],
   "source": [
    "import cantera as ct\n",
    "import numpy as np\n",
    "import csv\n",
    "\n",
    "# %config InlineBackend.figure_formats = [\"svg\"]\n",
    "%matplotlib inline\n",
    "import matplotlib.pylab as plt\n",
    "\n",
    "print('running cantera version: ' + ct.__version__)"
   ]
  },
  {
   "cell_type": "code",
   "execution_count": 80,
   "metadata": {},
   "outputs": [
    {
     "name": "stderr",
     "output_type": "stream",
     "text": [
      "C:\\Users\\tahze\\AppData\\Local\\Temp\\ipykernel_29584\\2558627316.py:2: UserWarning: NasaPoly2::validate: \n",
      "For species H2O, discontinuity in cp/R detected at Tmid = 18.01\n",
      "\tValue computed using low-temperature polynomial:  4.1640474673509615\n",
      "\tValue computed using high-temperature polynomial: 2.7303344722452962\n",
      "\n",
      "  gas = ct.Solution(\"data/ss_mech.yaml\")\n",
      "C:\\Users\\tahze\\AppData\\Local\\Temp\\ipykernel_29584\\2558627316.py:2: UserWarning: NasaPoly2::validate: \n",
      "For species H2O, discontinuity in h/RT detected at Tmid = 18.01\n",
      "\tValue computed using low-temperature polynomial:  -1677.869344773688\n",
      "\tValue computed using high-temperature polynomial: -1656.701813502562\n",
      "\n",
      "  gas = ct.Solution(\"data/ss_mech.yaml\")\n",
      "C:\\Users\\tahze\\AppData\\Local\\Temp\\ipykernel_29584\\2558627316.py:2: UserWarning: NasaPoly2::validate: \n",
      "For species H2O, discontinuity in s/R detected at Tmid = 18.01\n",
      "\tValue computed using low-temperature polynomial:  11.253302479772398\n",
      "\tValue computed using high-temperature polynomial: 14.675098919376222\n",
      "\n",
      "  gas = ct.Solution(\"data/ss_mech.yaml\")\n",
      "C:\\Users\\tahze\\AppData\\Local\\Temp\\ipykernel_29584\\2558627316.py:2: UserWarning: NasaPoly2::validate: \n",
      "For species O, discontinuity in cp/R detected at Tmid = 15.99\n",
      "\tValue computed using low-temperature polynomial:  3.117504375590273\n",
      "\tValue computed using high-temperature polynomial: 2.543199132035348\n",
      "\n",
      "  gas = ct.Solution(\"data/ss_mech.yaml\")\n",
      "C:\\Users\\tahze\\AppData\\Local\\Temp\\ipykernel_29584\\2558627316.py:2: UserWarning: NasaPoly2::validate: \n",
      "For species O, discontinuity in h/RT detected at Tmid = 15.99\n",
      "\tValue computed using low-temperature polynomial:  1824.4221085638385\n",
      "\tValue computed using high-temperature polynomial: 1830.3115232901912\n",
      "\n",
      "  gas = ct.Solution(\"data/ss_mech.yaml\")\n",
      "C:\\Users\\tahze\\AppData\\Local\\Temp\\ipykernel_29584\\2558627316.py:2: UserWarning: NasaPoly2::validate: \n",
      "For species O, discontinuity in s/R detected at Tmid = 15.99\n",
      "\tValue computed using low-temperature polynomial:  10.782658929235218\n",
      "\tValue computed using high-temperature polynomial: 11.972726160618528\n",
      "\n",
      "  gas = ct.Solution(\"data/ss_mech.yaml\")\n",
      "C:\\Users\\tahze\\AppData\\Local\\Temp\\ipykernel_29584\\2558627316.py:2: UserWarning: NasaPoly2::validate: \n",
      "For species O2, discontinuity in h/RT detected at Tmid = 31.99\n",
      "\tValue computed using low-temperature polynomial:  -29.520825417914907\n",
      "\tValue computed using high-temperature polynomial: -34.33975613657743\n",
      "\n",
      "  gas = ct.Solution(\"data/ss_mech.yaml\")\n",
      "C:\\Users\\tahze\\AppData\\Local\\Temp\\ipykernel_29584\\2558627316.py:2: UserWarning: NasaPoly2::validate: \n",
      "For species O2, discontinuity in s/R detected at Tmid = 31.99\n",
      "\tValue computed using low-temperature polynomial:  16.674556680613097\n",
      "\tValue computed using high-temperature polynomial: 16.123066132160353\n",
      "\n",
      "  gas = ct.Solution(\"data/ss_mech.yaml\")\n",
      "C:\\Users\\tahze\\AppData\\Local\\Temp\\ipykernel_29584\\2558627316.py:2: UserWarning: NasaPoly2::validate: \n",
      "For species N2, discontinuity in cp/R detected at Tmid = 28.01\n",
      "\tValue computed using low-temperature polynomial:  3.5271995524316657\n",
      "\tValue computed using high-temperature polynomial: 2.991318670260152\n",
      "\n",
      "  gas = ct.Solution(\"data/ss_mech.yaml\")\n",
      "C:\\Users\\tahze\\AppData\\Local\\Temp\\ipykernel_29584\\2558627316.py:2: UserWarning: NasaPoly2::validate: \n",
      "For species N2, discontinuity in h/RT detected at Tmid = 28.01\n",
      "\tValue computed using low-temperature polynomial:  -33.84950540910287\n",
      "\tValue computed using high-temperature polynomial: -30.014373590372557\n",
      "\n",
      "  gas = ct.Solution(\"data/ss_mech.yaml\")\n",
      "C:\\Users\\tahze\\AppData\\Local\\Temp\\ipykernel_29584\\2558627316.py:2: UserWarning: NasaPoly2::validate: \n",
      "For species N2, discontinuity in s/R detected at Tmid = 28.01\n",
      "\tValue computed using low-temperature polynomial:  14.731123809007618\n",
      "\tValue computed using high-temperature polynomial: 15.750469263911164\n",
      "\n",
      "  gas = ct.Solution(\"data/ss_mech.yaml\")\n",
      "C:\\Users\\tahze\\AppData\\Local\\Temp\\ipykernel_29584\\2558627316.py:2: UserWarning: NasaPoly2::validate: \n",
      "For species N2O, discontinuity in cp/R detected at Tmid = 44.01\n",
      "\tValue computed using low-temperature polynomial:  2.7290206655445624\n",
      "\tValue computed using high-temperature polynomial: 4.936953766253963\n",
      "\n",
      "  gas = ct.Solution(\"data/ss_mech.yaml\")\n",
      "C:\\Users\\tahze\\AppData\\Local\\Temp\\ipykernel_29584\\2558627316.py:2: UserWarning: NasaPoly2::validate: \n",
      "For species N2O, discontinuity in h/RT detected at Tmid = 44.01\n",
      "\tValue computed using low-temperature polynomial:  201.1287853757643\n",
      "\tValue computed using high-temperature polynomial: 188.32406322281457\n",
      "\n",
      "  gas = ct.Solution(\"data/ss_mech.yaml\")\n",
      "C:\\Users\\tahze\\AppData\\Local\\Temp\\ipykernel_29584\\2558627316.py:2: UserWarning: NasaPoly2::validate: \n",
      "For species N2O, discontinuity in s/R detected at Tmid = 44.01\n",
      "\tValue computed using low-temperature polynomial:  19.78453205380361\n",
      "\tValue computed using high-temperature polynomial: 16.16527499914631\n",
      "\n",
      "  gas = ct.Solution(\"data/ss_mech.yaml\")\n",
      "C:\\Users\\tahze\\AppData\\Local\\Temp\\ipykernel_29584\\2558627316.py:2: UserWarning: NasaPoly2::validate: \n",
      "For species NO, discontinuity in cp/R detected at Tmid = 30\n",
      "\tValue computed using low-temperature polynomial:  4.089092474717589\n",
      "\tValue computed using high-temperature polynomial: 3.2960583419518548\n",
      "\n",
      "  gas = ct.Solution(\"data/ss_mech.yaml\")\n",
      "C:\\Users\\tahze\\AppData\\Local\\Temp\\ipykernel_29584\\2558627316.py:2: UserWarning: NasaPoly2::validate: \n",
      "For species NO, discontinuity in h/RT detected at Tmid = 30\n",
      "\tValue computed using low-temperature polynomial:  332.32223943862215\n",
      "\tValue computed using high-temperature polynomial: 333.9928265749112\n",
      "\n",
      "  gas = ct.Solution(\"data/ss_mech.yaml\")\n",
      "C:\\Users\\tahze\\AppData\\Local\\Temp\\ipykernel_29584\\2558627316.py:2: UserWarning: NasaPoly2::validate: \n",
      "For species NO, discontinuity in s/R detected at Tmid = 30\n",
      "\tValue computed using low-temperature polynomial:  16.494587750167682\n",
      "\tValue computed using high-temperature polynomial: 17.494869312687428\n",
      "\n",
      "  gas = ct.Solution(\"data/ss_mech.yaml\")\n",
      "C:\\Users\\tahze\\AppData\\Local\\Temp\\ipykernel_29584\\2558627316.py:2: UserWarning: NasaPoly2::validate: \n",
      "For species HCL, discontinuity in cp/R detected at Tmid = 36.46\n",
      "\tValue computed using low-temperature polynomial:  3.524864113130429\n",
      "\tValue computed using high-temperature polynomial: 2.8184036072188126\n",
      "\n",
      "  gas = ct.Solution(\"data/ss_mech.yaml\")\n",
      "C:\\Users\\tahze\\AppData\\Local\\Temp\\ipykernel_29584\\2558627316.py:2: UserWarning: NasaPoly2::validate: \n",
      "For species HCL, discontinuity in h/RT detected at Tmid = 36.46\n",
      "\tValue computed using low-temperature polynomial:  -329.7308627080682\n",
      "\tValue computed using high-temperature polynomial: -324.0715806923912\n",
      "\n",
      "  gas = ct.Solution(\"data/ss_mech.yaml\")\n",
      "C:\\Users\\tahze\\AppData\\Local\\Temp\\ipykernel_29584\\2558627316.py:2: UserWarning: NasaPoly2::validate: \n",
      "For species HCL, discontinuity in s/R detected at Tmid = 36.46\n",
      "\tValue computed using low-temperature polynomial:  15.085480047976759\n",
      "\tValue computed using high-temperature polynomial: 16.472880305634682\n",
      "\n",
      "  gas = ct.Solution(\"data/ss_mech.yaml\")\n",
      "C:\\Users\\tahze\\AppData\\Local\\Temp\\ipykernel_29584\\2558627316.py:2: UserWarning: NasaPoly2::validate: \n",
      "For species CL2, discontinuity in cp/R detected at Tmid = 70.9\n",
      "\tValue computed using low-temperature polynomial:  3.223335988068876\n",
      "\tValue computed using high-temperature polynomial: 4.713975354415703\n",
      "\n",
      "  gas = ct.Solution(\"data/ss_mech.yaml\")\n",
      "C:\\Users\\tahze\\AppData\\Local\\Temp\\ipykernel_29584\\2558627316.py:2: UserWarning: NasaPoly2::validate: \n",
      "For species CL2, discontinuity in h/RT detected at Tmid = 70.9\n",
      "\tValue computed using low-temperature polynomial:  -11.942798984430285\n",
      "\tValue computed using high-temperature polynomial: -16.581566761583947\n",
      "\n",
      "  gas = ct.Solution(\"data/ss_mech.yaml\")\n",
      "C:\\Users\\tahze\\AppData\\Local\\Temp\\ipykernel_29584\\2558627316.py:2: UserWarning: NasaPoly2::validate: \n",
      "For species CL2, discontinuity in s/R detected at Tmid = 70.9\n",
      "\tValue computed using low-temperature polynomial:  21.626535384234572\n",
      "\tValue computed using high-temperature polynomial: 19.85090300166566\n",
      "\n",
      "  gas = ct.Solution(\"data/ss_mech.yaml\")\n",
      "C:\\Users\\tahze\\AppData\\Local\\Temp\\ipykernel_29584\\2558627316.py:2: UserWarning: NasaPoly2::validate: \n",
      "For species NH3, discontinuity in cp/R detected at Tmid = 17.03\n",
      "\tValue computed using low-temperature polynomial:  4.226771830953539\n",
      "\tValue computed using high-temperature polynomial: 2.8114178663478895\n",
      "\n",
      "  gas = ct.Solution(\"data/ss_mech.yaml\")\n",
      "C:\\Users\\tahze\\AppData\\Local\\Temp\\ipykernel_29584\\2558627316.py:2: UserWarning: NasaPoly2::validate: \n",
      "For species NH3, discontinuity in h/RT detected at Tmid = 17.03\n",
      "\tValue computed using low-temperature polynomial:  -391.9824376631303\n",
      "\tValue computed using high-temperature polynomial: -383.87804674836195\n",
      "\n",
      "  gas = ct.Solution(\"data/ss_mech.yaml\")\n",
      "C:\\Users\\tahze\\AppData\\Local\\Temp\\ipykernel_29584\\2558627316.py:2: UserWarning: NasaPoly2::validate: \n",
      "For species NH3, discontinuity in s/R detected at Tmid = 17.03\n",
      "\tValue computed using low-temperature polynomial:  11.42668357934718\n",
      "\tValue computed using high-temperature polynomial: 13.890380842497086\n",
      "\n",
      "  gas = ct.Solution(\"data/ss_mech.yaml\")\n",
      "C:\\Users\\tahze\\AppData\\Local\\Temp\\ipykernel_29584\\2558627316.py:2: UserWarning: NasaPoly2::validate: \n",
      "For species CL, discontinuity in cp/R detected at Tmid = 35.45\n",
      "\tValue computed using low-temperature polynomial:  2.314348174967176\n",
      "\tValue computed using high-temperature polynomial: 2.9330705191450934\n",
      "\n",
      "  gas = ct.Solution(\"data/ss_mech.yaml\")\n",
      "C:\\Users\\tahze\\AppData\\Local\\Temp\\ipykernel_29584\\2558627316.py:2: UserWarning: NasaPoly2::validate: \n",
      "For species CL, discontinuity in h/RT detected at Tmid = 35.45\n",
      "\tValue computed using low-temperature polynomial:  393.12822734351136\n",
      "\tValue computed using high-temperature polynomial: 389.3158975068384\n",
      "\n",
      "  gas = ct.Solution(\"data/ss_mech.yaml\")\n",
      "C:\\Users\\tahze\\AppData\\Local\\Temp\\ipykernel_29584\\2558627316.py:2: UserWarning: NasaPoly2::validate: \n",
      "For species CL, discontinuity in s/R detected at Tmid = 35.45\n",
      "\tValue computed using low-temperature polynomial:  14.690592882172336\n",
      "\tValue computed using high-temperature polynomial: 13.613476787496289\n",
      "\n",
      "  gas = ct.Solution(\"data/ss_mech.yaml\")\n",
      "C:\\Users\\tahze\\AppData\\Local\\Temp\\ipykernel_29584\\2558627316.py:2: UserWarning: NasaPoly2::validate: \n",
      "For species H2, discontinuity in cp/R detected at Tmid = 2.01\n",
      "\tValue computed using low-temperature polynomial:  2.3602934365979036\n",
      "\tValue computed using high-temperature polynomial: 2.9345266806587236\n",
      "\n",
      "  gas = ct.Solution(\"data/ss_mech.yaml\")\n",
      "C:\\Users\\tahze\\AppData\\Local\\Temp\\ipykernel_29584\\2558627316.py:2: UserWarning: NasaPoly2::validate: \n",
      "For species H2, discontinuity in h/RT detected at Tmid = 2.01\n",
      "\tValue computed using low-temperature polynomial:  -454.33184031861595\n",
      "\tValue computed using high-temperature polynomial: -401.57655092980355\n",
      "\n",
      "  gas = ct.Solution(\"data/ss_mech.yaml\")\n",
      "C:\\Users\\tahze\\AppData\\Local\\Temp\\ipykernel_29584\\2558627316.py:2: UserWarning: NasaPoly2::validate: \n",
      "For species H2, discontinuity in s/R detected at Tmid = 2.01\n",
      "\tValue computed using low-temperature polynomial:  2.335670747304918\n",
      "\tValue computed using high-temperature polynomial: 1.024867759488491\n",
      "\n",
      "  gas = ct.Solution(\"data/ss_mech.yaml\")\n",
      "C:\\Users\\tahze\\AppData\\Local\\Temp\\ipykernel_29584\\2558627316.py:2: UserWarning: NasaPoly2::validate: \n",
      "For species OH, discontinuity in cp/R detected at Tmid = 17\n",
      "\tValue computed using low-temperature polynomial:  3.9525086622846635\n",
      "\tValue computed using high-temperature polynomial: 2.8573846845926583\n",
      "\n",
      "  gas = ct.Solution(\"data/ss_mech.yaml\")\n",
      "C:\\Users\\tahze\\AppData\\Local\\Temp\\ipykernel_29584\\2558627316.py:2: UserWarning: NasaPoly2::validate: \n",
      "For species OH, discontinuity in h/RT detected at Tmid = 17\n",
      "\tValue computed using low-temperature polynomial:  216.6238419953234\n",
      "\tValue computed using high-temperature polynomial: 234.84558948261088\n",
      "\n",
      "  gas = ct.Solution(\"data/ss_mech.yaml\")\n",
      "C:\\Users\\tahze\\AppData\\Local\\Temp\\ipykernel_29584\\2558627316.py:2: UserWarning: NasaPoly2::validate: \n",
      "For species OH, discontinuity in s/R detected at Tmid = 17\n",
      "\tValue computed using low-temperature polynomial:  11.16614449469493\n",
      "\tValue computed using high-temperature polynomial: 13.905797492299701\n",
      "\n",
      "  gas = ct.Solution(\"data/ss_mech.yaml\")\n"
     ]
    }
   ],
   "source": [
    "# Create a Cantera solution object for the solid propellant.\n",
    "gas = ct.Solution(\"data/ss_mech.yaml\")"
   ]
  },
  {
   "cell_type": "code",
   "execution_count": 81,
   "metadata": {},
   "outputs": [],
   "source": [
    "reactor_T = 2050.0 # temp of AP premixed flame\n",
    "reactor_P = 101325 # Pa\n",
    "\n",
    "gas.set_equivalence_ratio(phi=1.0, fuel=\"C2H4\", oxidizer={\"NH3\": 1.0, \"HCLO4\": 1.0})\n",
    "\n",
    "gas.TP = reactor_T, reactor_P"
   ]
  },
  {
   "cell_type": "code",
   "execution_count": 82,
   "metadata": {},
   "outputs": [
    {
     "name": "stdout",
     "output_type": "stream",
     "text": [
      "\n",
      "  gas:\n",
      "\n",
      "       temperature   2050 K\n",
      "          pressure   1.0132e+05 Pa\n",
      "           density   0.32314 kg/m^3\n",
      "  mean mol. weight   54.358 kg/kmol\n",
      "   phase of matter   gas\n",
      "\n",
      "                          1 kg             1 kmol     \n",
      "                     ---------------   ---------------\n",
      "          enthalpy        1.9048e+06        1.0354e+08  J\n",
      "   internal energy        1.5913e+06          8.65e+07  J\n",
      "           entropy            6281.3        3.4144e+05  J/K\n",
      "    Gibbs function       -1.0972e+07       -5.9641e+08  J\n",
      " heat capacity c_p            1350.9             73431  J/K\n",
      " heat capacity c_v            1197.9             65116  J/K\n",
      "\n",
      "                      mass frac. Y      mole frac. X     chem. pot. / RT\n",
      "                     ---------------   ---------------   ---------------\n",
      "              C2H4          0.073728           0.14286           -34.589\n",
      "               NH3           0.13428           0.42857           -32.802\n",
      "             HCLO4             0.792           0.42857           -37.314\n",
      "     [  +14 minor]                 0                 0  \n",
      "\n"
     ]
    }
   ],
   "source": [
    "gas()"
   ]
  },
  {
   "cell_type": "code",
   "execution_count": 83,
   "metadata": {},
   "outputs": [],
   "source": [
    "reactor = ct.IdealGasReactor(contents=gas)"
   ]
  },
  {
   "cell_type": "code",
   "execution_count": 84,
   "metadata": {},
   "outputs": [],
   "source": [
    "reactor_network = ct.ReactorNet([reactor])"
   ]
  },
  {
   "cell_type": "code",
   "execution_count": 85,
   "metadata": {},
   "outputs": [],
   "source": [
    "# solution array with time\n",
    "time_history = ct.SolutionArray(gas, extra = 't')"
   ]
  },
  {
   "cell_type": "code",
   "execution_count": 86,
   "metadata": {},
   "outputs": [],
   "source": [
    "est_ignition_delay_time = 2.5e3\n",
    "\n",
    "t = 0\n",
    "\n",
    "while t < est_ignition_delay_time:\n",
    "    t = reactor_network.step()\n",
    "\n",
    "    time_history.append(reactor.thermo.state, t=t)"
   ]
  },
  {
   "cell_type": "code",
   "execution_count": 87,
   "metadata": {},
   "outputs": [
    {
     "data": {
      "text/plain": [
       "           T         D          H2O            O  ...           H2           OH            t\n",
       "0    2050.00  0.323144  2.52092e-16  1.22884e-87  ...  7.17441e-87  2.01745e-86  6.34172e-13\n",
       "1    2050.00  0.323144  2.52117e-12  4.07075e-67  ...  2.37665e-66  6.68316e-66  6.34236e-09\n",
       "2    2050.00  0.323144  2.77304e-11  8.13702e-62  ...  4.75069e-61  1.33590e-60  6.97596e-08\n",
       "3    2050.00  0.323144  2.79823e-10  1.13942e-56  ...  6.65235e-56  1.87064e-55  7.03932e-07\n",
       "4    2050.00  0.323144  2.80074e-09  1.02855e-51  ...  6.00503e-51  1.68862e-50  7.04565e-06\n",
       "..       ...       ...          ...          ...  ...          ...          ...          ...\n",
       "330  3862.06  0.323144  2.25185e-01  2.78113e-10  ...  1.62372e-09  4.56592e-09  2.42340e+03\n",
       "331  3862.38  0.323144  2.25235e-01  2.81590e-10  ...  1.64402e-09  4.62300e-09  2.44610e+03\n",
       "332  3862.70  0.323144  2.25285e-01  2.85070e-10  ...  1.66434e-09  4.68014e-09  2.46881e+03\n",
       "333  3863.01  0.323144  2.25333e-01  2.88554e-10  ...  1.68468e-09  4.73734e-09  2.49151e+03\n",
       "334  3863.31  0.323144  2.25381e-01  2.92041e-10  ...  1.70504e-09  4.79458e-09  2.51422e+03\n",
       "\n",
       "[335 rows x 20 components; state='TDY']"
      ]
     },
     "execution_count": 87,
     "metadata": {},
     "output_type": "execute_result"
    }
   ],
   "source": [
    "time_history"
   ]
  },
  {
   "cell_type": "code",
   "execution_count": 88,
   "metadata": {},
   "outputs": [
    {
     "name": "stdout",
     "output_type": "stream",
     "text": [
      "computed ignition delay: 6.342e-13 seconds\n"
     ]
    }
   ],
   "source": [
    "ref_species = 'NH3'\n",
    "\n",
    "i_ign = time_history(ref_species).Y.argmax()\n",
    "tau = time_history.t[i_ign]\n",
    "\n",
    "print(f\"computed ignition delay: {tau:.3e} seconds\")"
   ]
  },
  {
   "cell_type": "code",
   "execution_count": 89,
   "metadata": {},
   "outputs": [
    {
     "data": {
      "image/png": "[encoded data removed]",
      "text/plain": [
       "<Figure size 432x288 with 1 Axes>"
      ]
     },
     "metadata": {
      "needs_background": "light"
     },
     "output_type": "display_data"
    }
   ],
   "source": [
    "plt.plot(time_history.t, time_history(ref_species).Y)\n",
    "plt.xlabel('time(s)')\n",
    "plt.ylabel('Y (H2O)')\n",
    "plt.grid()\n",
    "plt.show()"
   ]
  },
  {
   "cell_type": "code",
   "execution_count": 90,
   "metadata": {},
   "outputs": [
    {
     "name": "stdout",
     "output_type": "stream",
     "text": [
      "\n",
      "  gas:\n",
      "\n",
      "       temperature   3863.3 K\n",
      "          pressure   3.6169e+05 Pa\n",
      "           density   0.32314 kg/m^3\n",
      "  mean mol. weight   28.698 kg/kmol\n",
      "   phase of matter   gas\n",
      "\n",
      "                          1 kg             1 kmol     \n",
      "                     ---------------   ---------------\n",
      "          enthalpy        2.7106e+06        7.7788e+07  J\n",
      "   internal energy        1.5913e+06        4.5667e+07  J\n",
      "           entropy             10856        3.1156e+05  J/K\n",
      "    Gibbs function       -3.9231e+07       -1.1259e+09  J\n",
      " heat capacity c_p            1889.9             54237  J/K\n",
      " heat capacity c_v            1600.2             45923  J/K\n",
      "\n",
      "                      mass frac. Y      mole frac. X     chem. pot. / RT\n",
      "                     ---------------   ---------------   ---------------\n",
      "               H2O           0.22538           0.35903           -38.028\n",
      "                 O        2.9204e-10        5.2384e-10           -35.875\n",
      "                O2           0.25082           0.22495           -31.527\n",
      "                N2          0.057331          0.058731           -30.906\n",
      "               N2O          0.040788          0.026595           -36.425\n",
      "                NO          0.053297          0.050974           -30.697\n",
      "               HCL           0.21398           0.16843           -32.062\n",
      "               CL2          0.065704          0.026595           -36.458\n",
      "              C2H4          0.073728           0.07542            -42.39\n",
      "               NH3         0.0027507         0.0046351           -39.094\n",
      "             HCLO4          0.016224         0.0046351           -44.877\n",
      "                CO        2.6644e-08        2.7298e-08           -49.714\n",
      "               CO2        5.1502e-08        3.3584e-08           -63.839\n",
      "                CL        6.6866e-09        5.4131e-09           -38.223\n",
      "                 H         6.951e-11         1.979e-09           -29.876\n",
      "                H2         1.705e-09        2.4271e-08           -38.037\n",
      "                OH        4.7946e-09        8.0905e-09           -44.373\n",
      "\n"
     ]
    }
   ],
   "source": [
    "gas()"
   ]
  },
  {
   "cell_type": "code",
   "execution_count": 96,
   "metadata": {},
   "outputs": [],
   "source": [
    "diagram = ct.ReactionPathDiagram(gas, 'N')\n",
    "diagram.show_details = True\n",
    "diagram.font = 'CMU Serif'"
   ]
  },
  {
   "cell_type": "code",
   "execution_count": 101,
   "metadata": {},
   "outputs": [],
   "source": [
    "import pydot"
   ]
  },
  {
   "cell_type": "code",
   "execution_count": 105,
   "metadata": {},
   "outputs": [],
   "source": [
    "# save dot file\n",
    "dot_file = 'N_ReactionPathDiagram.dot'\n",
    "\n",
    "diagram.write_dot(dot_file)"
   ]
  },
  {
   "cell_type": "code",
   "execution_count": 91,
   "metadata": {},
   "outputs": [],
   "source": [
    "\n",
    "# # Plot the burn rate vs. pressure\n",
    "# plt.plot(pressures, burn_rates)\n",
    "# plt.xlabel('Pressure (MPa)')\n",
    "# plt.ylabel('Burn Rate (cm/s)')\n",
    "# plt.title('Burn Rate vs. Pressure')\n",
    "# plt.grid()\n",
    "# plt.show()"
   ]
  }
 ],
 "metadata": {
  "kernelspec": {
   "display_name": "Python 3",
   "language": "python",
   "name": "python3"
  },
  "language_info": {
   "codemirror_mode": {
    "name": "ipython",
    "version": 3
   },
   "file_extension": ".py",
   "mimetype": "text/x-python",
   "name": "python",
   "nbconvert_exporter": "python",
   "pygments_lexer": "ipython3",
   "version": "3.10.2"
  }
 },
 "nbformat": 4,
 "nbformat_minor": 2
}
